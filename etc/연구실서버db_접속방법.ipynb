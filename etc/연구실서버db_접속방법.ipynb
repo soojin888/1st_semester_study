{
 "cells": [
  {
   "cell_type": "code",
   "execution_count": 4,
   "metadata": {},
   "outputs": [],
   "source": [
    "import pymysql\n",
    "import pyhive\n",
    "import scipy.io\n",
    "import csv\n",
    "import pandas as pd"
   ]
  },
  {
   "cell_type": "code",
   "execution_count": 5,
   "metadata": {},
   "outputs": [
    {
     "data": {
      "text/html": [
       "<div>\n",
       "<style scoped>\n",
       "    .dataframe tbody tr th:only-of-type {\n",
       "        vertical-align: middle;\n",
       "    }\n",
       "\n",
       "    .dataframe tbody tr th {\n",
       "        vertical-align: top;\n",
       "    }\n",
       "\n",
       "    .dataframe thead th {\n",
       "        text-align: right;\n",
       "    }\n",
       "</style>\n",
       "<table border=\"1\" class=\"dataframe\">\n",
       "  <thead>\n",
       "    <tr style=\"text-align: right;\">\n",
       "      <th></th>\n",
       "      <th>num_legs</th>\n",
       "      <th>num_wings</th>\n",
       "      <th>num_specimen_seen</th>\n",
       "    </tr>\n",
       "  </thead>\n",
       "  <tbody>\n",
       "    <tr>\n",
       "      <td>0</td>\n",
       "      <td>2</td>\n",
       "      <td>2</td>\n",
       "      <td>10</td>\n",
       "    </tr>\n",
       "    <tr>\n",
       "      <td>1</td>\n",
       "      <td>4</td>\n",
       "      <td>0</td>\n",
       "      <td>2</td>\n",
       "    </tr>\n",
       "    <tr>\n",
       "      <td>2</td>\n",
       "      <td>8</td>\n",
       "      <td>0</td>\n",
       "      <td>1</td>\n",
       "    </tr>\n",
       "    <tr>\n",
       "      <td>3</td>\n",
       "      <td>0</td>\n",
       "      <td>0</td>\n",
       "      <td>8</td>\n",
       "    </tr>\n",
       "  </tbody>\n",
       "</table>\n",
       "</div>"
      ],
      "text/plain": [
       "   num_legs  num_wings  num_specimen_seen\n",
       "0         2          2                 10\n",
       "1         4          0                  2\n",
       "2         8          0                  1\n",
       "3         0          0                  8"
      ]
     },
     "execution_count": 5,
     "metadata": {},
     "output_type": "execute_result"
    }
   ],
   "source": [
    "# (선택) df 예시\n",
    "df_test = pd.DataFrame({'num_legs': [2, 4, 8, 0],\n",
    "                   'num_wings': [2, 0, 0, 0],\n",
    "                   'num_specimen_seen': [10, 2, 1, 8]})\n",
    "\n",
    "df_test.to_csv('./db_server_test.csv')\n",
    "df_test"
   ]
  },
  {
   "cell_type": "code",
   "execution_count": 8,
   "metadata": {},
   "outputs": [],
   "source": [
    "# csv로 만들어진 데이터 서버 붙어서 집어 넣기\n",
    "\n",
    "conn = pymysql.connect(host='165.132.192.29', user='icet', password='021234528', db='proj_skg_db', charset='utf8')\n",
    "curs = conn.cursor()\n",
    "conn.commit()\n",
    "\n",
    "f = open('./db_server_test.csv','r')\n",
    "csvReader = csv.reader(f)\n",
    "\n",
    "for row in csvReader:\n",
    "    num_legs = (row[0])\n",
    "    num_wings = (row[1])\n",
    "    num_specimen_seen = (row[2])\n",
    "    \n",
    "    sql = \"\"\"insert into bugs_table (num_legs, num_wings, num_specimen_seen) values (%s, %s, %s)\"\"\"\n",
    "    curs.execute(sql, (num_legs, num_wings, num_specimen_seen))\n",
    "\n",
    "#db의 변화 저장\n",
    "conn.commit()\n",
    "f.close()\n",
    "conn.close()"
   ]
  },
  {
   "cell_type": "code",
   "execution_count": 9,
   "metadata": {},
   "outputs": [
    {
     "data": {
      "text/plain": [
       "(('', 'num_legs', 'num_wings'),\n",
       " ('0', '2', '2'),\n",
       " ('1', '4', '0'),\n",
       " ('2', '8', '0'),\n",
       " ('3', '0', '0'),\n",
       " ('', 'num_legs', 'num_wings'),\n",
       " ('0', '2', '2'),\n",
       " ('1', '4', '0'),\n",
       " ('2', '8', '0'),\n",
       " ('3', '0', '0'),\n",
       " ('', 'num_legs', 'num_wings'),\n",
       " ('0', '2', '2'),\n",
       " ('1', '4', '0'),\n",
       " ('2', '8', '0'),\n",
       " ('3', '0', '0'))"
      ]
     },
     "execution_count": 9,
     "metadata": {},
     "output_type": "execute_result"
    }
   ],
   "source": [
    "# 만들어진 테이블 조회하기\n",
    "\n",
    "conn = pymysql.connect(host='165.132.192.29', user='icet', password='021234528', db='proj_skg_db', charset='utf8')\n",
    "curs = conn.cursor()\n",
    "sql = \"select * from bugs_table\"\n",
    "curs.execute(sql)\n",
    "data = curs.fetchall()\n",
    "\n",
    "data"
   ]
  },
  {
   "cell_type": "code",
   "execution_count": null,
   "metadata": {},
   "outputs": [],
   "source": []
  }
 ],
 "metadata": {
  "kernelspec": {
   "display_name": "Python 3",
   "language": "python",
   "name": "python3"
  },
  "language_info": {
   "codemirror_mode": {
    "name": "ipython",
    "version": 3
   },
   "file_extension": ".py",
   "mimetype": "text/x-python",
   "name": "python",
   "nbconvert_exporter": "python",
   "pygments_lexer": "ipython3",
   "version": "3.7.4"
  }
 },
 "nbformat": 4,
 "nbformat_minor": 4
}
