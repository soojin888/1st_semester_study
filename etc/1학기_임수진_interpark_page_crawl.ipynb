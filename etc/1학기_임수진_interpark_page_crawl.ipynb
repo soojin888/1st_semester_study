{
 "cells": [
  {
   "cell_type": "markdown",
   "metadata": {},
   "source": [
    "임수진, 디지털 경영 트랙, 석사 1학기\n",
    "\n",
    "참고자료\n",
    "- 책 : 이것이 데이터 분석이다\n",
    "- 블로그 :"
   ]
  },
  {
   "cell_type": "markdown",
   "metadata": {},
   "source": [
    "# 인터파크 \"관심집중 핫이슈\" 크롤링"
   ]
  },
  {
   "cell_type": "markdown",
   "metadata": {},
   "source": [
    "1. 내용\n",
    "- 인터파크 페이지에서 뮤지컬, 콘서트, 연극 탭의 \"관심집중 핫이슈\" 작품만을 크롤링\n",
    "- 인기가 많았던 작품뿐만 아니라 뜨고 있는 작품들을 한꺼번에 확인할 수 있는 페이지임\n",
    "\n",
    "2. 데이터 상세 정보\n",
    "- 크롤링 url\n",
    "    - 뮤지컬 : http://ticket.interpark.com/MusicalIndex.asp\n",
    "- 피처 설명"
   ]
  },
  {
   "cell_type": "code",
   "execution_count": 449,
   "metadata": {},
   "outputs": [],
   "source": [
    "# -*- coding: utf-8 -*-\n",
    "\n",
    "%matplotlib inline\n",
    "\n",
    "import requests\n",
    "from bs4 import BeautifulSoup\n",
    "import re\n",
    "import pandas as pd\n",
    "import numpy as np\n",
    "import matplotlib.pyplot as plt\n",
    "\n",
    "import warnings\n",
    "warnings.filterwarnings(\"ignore\")"
   ]
  },
  {
   "cell_type": "code",
   "execution_count": 479,
   "metadata": {},
   "outputs": [
    {
     "data": {
      "text/plain": [
       "['http://ticket.interpark.com/Ticket/Goods/TPBridge.asp?GoodsCode=20002018',\n",
       " 'http://ticket.interpark.com/Ticket/Goods/TPBridge.asp?GoodsCode=P0002351',\n",
       " 'http://ticket.interpark.com/Ticket/Goods/TPBridge.asp?GoodsCode=20001195',\n",
       " 'http://ticket.interpark.com/Ticket/Goods/TPBridge.asp?GoodsCode=20002842',\n",
       " 'http://ticket.interpark.com/Ticket/Goods/TPBridge.asp?GoodsCode=20003125',\n",
       " 'http://ticket.interpark.com/Ticket/Goods/TPBridge.asp?GoodsCode=19019216',\n",
       " 'http://ticket.interpark.com/Ticket/Goods/TPBridge.asp?GoodsCode=20001382',\n",
       " 'http://ticket.interpark.com/Ticket/Goods/TPBridge.asp?GoodsCode=20002020',\n",
       " 'http://ticket.interpark.com/Ticket/Goods/TPBridge.asp?GoodsCode=20002972',\n",
       " 'http://ticket.interpark.com/Ticket/Goods/TPBridge.asp?GoodsCode=20000762',\n",
       " 'http://ticket.interpark.com/Ticket/Goods/TPBridge.asp?GoodsCode=19009138',\n",
       " 'http://ticket.interpark.com/Ticket/Goods/TPBridge.asp?GoodsCode=16016299',\n",
       " 'http://ticket.interpark.com/Ticket/Goods/TPBridge.asp?GoodsCode=19006228',\n",
       " 'http://ticket.interpark.com/Ticket/Goods/TPBridge.asp?GoodsCode=20000333',\n",
       " 'http://ticket.interpark.com/Ticket/Goods/TPBridge.asp?GoodsCode=19018301',\n",
       " 'http://ticket.interpark.com/Ticket/Goods/TPBridge.asp?GoodsCode=20000971',\n",
       " 'http://ticket.interpark.com/Ticket/Goods/TPBridge.asp?GoodsCode=19012079',\n",
       " 'http://ticket.interpark.com/Ticket/Goods/TPBridge.asp?GoodsCode=19014431',\n",
       " 'http://ticket.interpark.com/Ticket/Goods/TPBridge.asp?GoodsCode=19011821',\n",
       " 'http://ticket.interpark.com/Ticket/Goods/TPBridge.asp?GoodsCode=17000702',\n",
       " 'http://ticket.interpark.com/Ticket/Goods/TPBridge.asp?GoodsCode=17004106',\n",
       " 'http://ticket.interpark.com/Ticket/Goods/TPBridge.asp?GoodsCode=18017439',\n",
       " 'http://ticket.interpark.com/Ticket/Goods/TPBridge.asp?GoodsCode=17008561',\n",
       " 'http://ticket.interpark.com/Ticket/Goods/TPBridge.asp?GoodsCode=P0002352']"
      ]
     },
     "execution_count": 479,
     "metadata": {},
     "output_type": "execute_result"
    }
   ],
   "source": [
    "musical_url = \"http://ticket.interpark.com/MusicalIndex.asp\"\n",
    "\n",
    "req = requests.get(musical_url)\n",
    "html = req.content\n",
    "soup = BeautifulSoup(html, 'lxml')\n",
    "musical_posters_list = soup.find_all(name=\"dt\", attrs={\"class\":\"issue_obj\"})\n",
    "\n",
    "musical_page_urls = []\n",
    "for index in range(0, len(musical_posters_list)):\n",
    "    a_url = musical_posters_list[index].find_all('a')\n",
    "    href_url = a_url[0].get('href')\n",
    "    musical_page_urls.append(href_url)\n",
    "\n",
    "# 보여지는 작품 수가 계속 변경됨\n",
    "count_musical_page_urls = len(musical_page_urls)\n",
    "musical_page_urls"
   ]
  },
  {
   "cell_type": "code",
   "execution_count": 480,
   "metadata": {},
   "outputs": [
    {
     "data": {
      "text/plain": [
       "24"
      ]
     },
     "execution_count": 480,
     "metadata": {},
     "output_type": "execute_result"
    }
   ],
   "source": [
    "count_musical_page_urls"
   ]
  },
  {
   "cell_type": "code",
   "execution_count": null,
   "metadata": {},
   "outputs": [],
   "source": [
    "columns = ['title', 'category', 'location', 'date', 'actor']\n",
    "df = pd.DataFrame(columns = columns)\n",
    "\n",
    "for musical_page_url in musical_page_urls[:24]:\n",
    "    req = requests.get(musical_page_url)\n",
    "    html = req.content\n",
    "    soup = BeautifulSoup(html, 'lxml')\n",
    "    \n",
    "    try:\n",
    "        title_category = soup.find(name=\"div\", attrs={\"class\":\"dt_Name\"})\n",
    "        title = title_category.find(name=\"span\")   \n",
    "        category = title_category.find(name=\"dd\")\n",
    "    except AttributeError:\n",
    "        print(\"error\")\n",
    "    \n",
    "#     title_category = soup.find(name=\"div\", attrs={\"class\":\"dt_Name\"})\n",
    "#     title = title_category.find(name=\"span\")\n",
    "#     category = title_category.find(name=\"dd\")\n",
    "\n",
    "    if title is not None:\n",
    "        row_title = title.text.replace(\"\\n\", \" \")\n",
    "    else:\n",
    "        row_title = \"\"\n",
    "\n",
    "    if category is not None:\n",
    "        row_category = category.text.replace(\"\\n\", \" \")\n",
    "    else:\n",
    "        row_category = \"\"\n",
    "        \n",
    "    basic_info = soup.find(name=\"ul\", attrs={\"class\":\"info_Lst\"})\n",
    "    basic_info = basic_info.text.strip()\n",
    "    row_basic_info = list(basic_info.split('\\n'))\n",
    "    \n",
    "    remove_word = ['', '관람시간 보기', '출연', '더보기']\n",
    "    row_basic_info_final = []\n",
    "\n",
    "    for item in row_basic_info:\n",
    "        if item not in remove_word:\n",
    "            row_basic_info_final.append(item)\n",
    "\n",
    "    row_location = row_basic_info_final[0]\n",
    "    if row_location[:2] == '장소':\n",
    "        row_location = row_location[2:]\n",
    "\n",
    "    row_date = row_basic_info_final[1]\n",
    "    if row_date[:2] == '기간':\n",
    "        row_date = row_date[2:]\n",
    "\n",
    "    try:\n",
    "        row_actor = row_basic_info_final[2]\n",
    "\n",
    "    except IndexError:\n",
    "        row_actor = \"\"\n",
    "        \n",
    "    row = [row_title, row_category, row_location, row_date, row_actor]\n",
    "    series = pd.Series(row, index = df.columns)\n",
    "    df = df.append(series, ignore_index=True)\n",
    "\n",
    "df"
   ]
  },
  {
   "cell_type": "code",
   "execution_count": 476,
   "metadata": {},
   "outputs": [
    {
     "name": "stdout",
     "output_type": "stream",
     "text": [
      "a\n",
      "b\n",
      "pass\n",
      "d\n",
      "e\n",
      "f\n"
     ]
    }
   ],
   "source": [
    "sonia_list = ['a', 'b', 'c', 'd', 'e', 'f']\n",
    "\n",
    "for i in sonia_list:\n",
    "    if i == 'c':\n",
    "        print(\"pass\")\n",
    "    else:\n",
    "        print(i)"
   ]
  },
  {
   "cell_type": "code",
   "execution_count": 472,
   "metadata": {},
   "outputs": [
    {
     "name": "stdout",
     "output_type": "stream",
     "text": [
      "1 a\n",
      "2 b\n",
      "3 c\n",
      "4 d\n",
      "5 e\n",
      "6 f\n"
     ]
    }
   ],
   "source": [
    "for index, value in enumerate(sonia_list):\n",
    "    print(index+1, value)"
   ]
  },
  {
   "cell_type": "code",
   "execution_count": null,
   "metadata": {},
   "outputs": [],
   "source": []
  },
  {
   "cell_type": "code",
   "execution_count": null,
   "metadata": {},
   "outputs": [],
   "source": []
  },
  {
   "cell_type": "code",
   "execution_count": null,
   "metadata": {},
   "outputs": [],
   "source": []
  },
  {
   "cell_type": "code",
   "execution_count": null,
   "metadata": {},
   "outputs": [],
   "source": []
  },
  {
   "cell_type": "code",
   "execution_count": null,
   "metadata": {},
   "outputs": [],
   "source": []
  },
  {
   "cell_type": "code",
   "execution_count": null,
   "metadata": {},
   "outputs": [],
   "source": []
  },
  {
   "cell_type": "code",
   "execution_count": null,
   "metadata": {},
   "outputs": [],
   "source": []
  },
  {
   "cell_type": "code",
   "execution_count": 475,
   "metadata": {},
   "outputs": [
    {
     "name": "stdout",
     "output_type": "stream",
     "text": [
      "error\n"
     ]
    }
   ],
   "source": [
    "# 0, 5\n",
    "req = requests.get(musical_page_urls[22])\n",
    "html = req.content\n",
    "soup = BeautifulSoup(html, 'lxml')\n",
    "\n",
    "try:\n",
    "    title_category = soup.find(name=\"div\", attrs={\"class\":\"dt_Name\"})\n",
    "    title = title_category.find(name=\"span\")   \n",
    "    category = title_category.find(name=\"dd\")\n",
    "except AttributeError:\n",
    "    print(\"error\")\n",
    "    \n"
   ]
  },
  {
   "cell_type": "code",
   "execution_count": 461,
   "metadata": {},
   "outputs": [
    {
     "ename": "AttributeError",
     "evalue": "'NoneType' object has no attribute 'find'",
     "output_type": "error",
     "traceback": [
      "\u001b[0;31m---------------------------------------------------------------------------\u001b[0m",
      "\u001b[0;31mAttributeError\u001b[0m                            Traceback (most recent call last)",
      "\u001b[0;32m<ipython-input-461-907f446b1bae>\u001b[0m in \u001b[0;36m<module>\u001b[0;34m\u001b[0m\n\u001b[1;32m      1\u001b[0m \u001b[0mtitle_category\u001b[0m \u001b[0;34m=\u001b[0m \u001b[0msoup\u001b[0m\u001b[0;34m.\u001b[0m\u001b[0mfind\u001b[0m\u001b[0;34m(\u001b[0m\u001b[0mname\u001b[0m\u001b[0;34m=\u001b[0m\u001b[0;34m\"div\"\u001b[0m\u001b[0;34m,\u001b[0m \u001b[0mattrs\u001b[0m\u001b[0;34m=\u001b[0m\u001b[0;34m{\u001b[0m\u001b[0;34m\"class\"\u001b[0m\u001b[0;34m:\u001b[0m\u001b[0;34m\"dt_Name\"\u001b[0m\u001b[0;34m}\u001b[0m\u001b[0;34m)\u001b[0m\u001b[0;34m\u001b[0m\u001b[0;34m\u001b[0m\u001b[0m\n\u001b[0;32m----> 2\u001b[0;31m \u001b[0mtitle\u001b[0m \u001b[0;34m=\u001b[0m \u001b[0mtitle_category\u001b[0m\u001b[0;34m.\u001b[0m\u001b[0mfind\u001b[0m\u001b[0;34m(\u001b[0m\u001b[0mname\u001b[0m\u001b[0;34m=\u001b[0m\u001b[0;34m\"span\"\u001b[0m\u001b[0;34m)\u001b[0m\u001b[0;34m\u001b[0m\u001b[0;34m\u001b[0m\u001b[0m\n\u001b[0m\u001b[1;32m      3\u001b[0m \u001b[0mcategory\u001b[0m \u001b[0;34m=\u001b[0m \u001b[0mtitle_category\u001b[0m\u001b[0;34m.\u001b[0m\u001b[0mfind\u001b[0m\u001b[0;34m(\u001b[0m\u001b[0mname\u001b[0m\u001b[0;34m=\u001b[0m\u001b[0;34m\"dd\"\u001b[0m\u001b[0;34m)\u001b[0m\u001b[0;34m\u001b[0m\u001b[0;34m\u001b[0m\u001b[0m\n\u001b[1;32m      4\u001b[0m \u001b[0;34m\u001b[0m\u001b[0m\n\u001b[1;32m      5\u001b[0m \u001b[0;32mif\u001b[0m \u001b[0mtitle\u001b[0m \u001b[0;32mis\u001b[0m \u001b[0;32mnot\u001b[0m \u001b[0;32mNone\u001b[0m\u001b[0;34m:\u001b[0m\u001b[0;34m\u001b[0m\u001b[0;34m\u001b[0m\u001b[0m\n",
      "\u001b[0;31mAttributeError\u001b[0m: 'NoneType' object has no attribute 'find'"
     ]
    }
   ],
   "source": [
    "\n",
    "if title is not None:\n",
    "    row_title = title.text.replace(\"\\n\", \" \")\n",
    "else:\n",
    "    row_title = \"\"\n",
    "\n",
    "if category is not None:\n",
    "    row_category = category.text.replace(\"\\n\", \" \")\n",
    "else:\n",
    "    row_category = \"\"\n",
    "\n",
    "basic_info = soup.find(name=\"ul\", attrs={\"class\":\"info_Lst\"})\n",
    "basic_info = basic_info.text.strip()\n",
    "row_basic_info = list(basic_info.split('\\n'))\n",
    "row_basic_info"
   ]
  },
  {
   "cell_type": "code",
   "execution_count": 392,
   "metadata": {},
   "outputs": [
    {
     "name": "stdout",
     "output_type": "stream",
     "text": [
      "올림픽공원 우리금융아트홀\n",
      "2020.03.31 ~ 2020.05.10\n",
      "\n"
     ]
    }
   ],
   "source": [
    "remove_word = ['', '관람시간 보기', '출연', '더보기']\n",
    "row_basic_info_final = []\n",
    "\n",
    "for item in row_basic_info:\n",
    "    if item not in remove_word:\n",
    "        row_basic_info_final.append(item)\n",
    "\n",
    "row_location = row_basic_info_final[0]\n",
    "if row_location[:2] == '장소':\n",
    "    row_location = row_location[2:]\n",
    "    \n",
    "row_date = row_basic_info_final[1]\n",
    "if row_date[:2] == '기간':\n",
    "    row_date = row_date[2:]\n",
    "\n",
    "try:\n",
    "    row_actor = row_basic_info_final[2]\n",
    "    \n",
    "except IndexError:\n",
    "    row_actor = \"\"\n",
    "\n",
    "print(row_location)\n",
    "print(row_date)\n",
    "print(row_actor)"
   ]
  },
  {
   "cell_type": "code",
   "execution_count": 390,
   "metadata": {},
   "outputs": [
    {
     "data": {
      "text/html": [
       "<div>\n",
       "<style scoped>\n",
       "    .dataframe tbody tr th:only-of-type {\n",
       "        vertical-align: middle;\n",
       "    }\n",
       "\n",
       "    .dataframe tbody tr th {\n",
       "        vertical-align: top;\n",
       "    }\n",
       "\n",
       "    .dataframe thead th {\n",
       "        text-align: right;\n",
       "    }\n",
       "</style>\n",
       "<table border=\"1\" class=\"dataframe\">\n",
       "  <thead>\n",
       "    <tr style=\"text-align: right;\">\n",
       "      <th></th>\n",
       "      <th>title</th>\n",
       "      <th>category</th>\n",
       "      <th>location</th>\n",
       "      <th>date</th>\n",
       "      <th>actor</th>\n",
       "    </tr>\n",
       "  </thead>\n",
       "  <tbody>\n",
       "    <tr>\n",
       "      <th>0</th>\n",
       "      <td>트롯연가</td>\n",
       "      <td>뮤지컬 |  120분 (인터미션 : 20분)  |  만 7세이상</td>\n",
       "      <td>올림픽공원 우리금융아트홀</td>\n",
       "      <td>2020.03.31 ~ 2020.05.10</td>\n",
       "      <td></td>\n",
       "    </tr>\n",
       "  </tbody>\n",
       "</table>\n",
       "</div>"
      ],
      "text/plain": [
       "  title                             category       location  \\\n",
       "0  트롯연가  뮤지컬 |  120분 (인터미션 : 20분)  |  만 7세이상  올림픽공원 우리금융아트홀   \n",
       "\n",
       "                      date actor  \n",
       "0  2020.03.31 ~ 2020.05.10        "
      ]
     },
     "execution_count": 390,
     "metadata": {},
     "output_type": "execute_result"
    }
   ],
   "source": [
    "# 크롤링한 데이터를 데이터 프레임으로 만들기 위해 준비합니다.\n",
    "columns = ['title', 'category', 'location', 'date', 'actor']\n",
    "df = pd.DataFrame(columns = columns)\n",
    "\n",
    "# 모든 정보를 하나의 데이터 프레임에 저장합니다.\n",
    "row = [row_title, row_category, row_location, row_date, row_actor]\n",
    "series = pd.Series(row, index = df.columns)\n",
    "df = df.append(series, ignore_index=True)\n",
    "\n",
    "df"
   ]
  },
  {
   "cell_type": "code",
   "execution_count": null,
   "metadata": {},
   "outputs": [],
   "source": []
  },
  {
   "cell_type": "code",
   "execution_count": null,
   "metadata": {},
   "outputs": [],
   "source": []
  },
  {
   "cell_type": "code",
   "execution_count": null,
   "metadata": {},
   "outputs": [],
   "source": []
  },
  {
   "cell_type": "code",
   "execution_count": null,
   "metadata": {},
   "outputs": [],
   "source": []
  },
  {
   "cell_type": "code",
   "execution_count": null,
   "metadata": {},
   "outputs": [],
   "source": []
  },
  {
   "cell_type": "code",
   "execution_count": null,
   "metadata": {},
   "outputs": [],
   "source": []
  },
  {
   "cell_type": "code",
   "execution_count": null,
   "metadata": {},
   "outputs": [],
   "source": []
  },
  {
   "cell_type": "code",
   "execution_count": null,
   "metadata": {},
   "outputs": [],
   "source": []
  },
  {
   "cell_type": "code",
   "execution_count": null,
   "metadata": {},
   "outputs": [],
   "source": []
  },
  {
   "cell_type": "code",
   "execution_count": 207,
   "metadata": {},
   "outputs": [
    {
     "data": {
      "text/plain": [
       "[<span>New</span>,\n",
       " <span id=\"spReviewCnt\"></span>,\n",
       " <span id=\"spExpertCnt\"></span>,\n",
       " <span id=\"spQnACnt\"></span>]"
      ]
     },
     "execution_count": 207,
     "metadata": {},
     "output_type": "execute_result"
    }
   ],
   "source": [
    "result = soup.find('div', {'class':'Mid_Tab'}).findChildren('span')\n",
    "result"
   ]
  },
  {
   "cell_type": "code",
   "execution_count": null,
   "metadata": {},
   "outputs": [],
   "source": [
    "result = html.find('div', {'class':'score_total'}).find('strong').findChildren('em')[1].getText()\n",
    "int(result.replace(',', ''))"
   ]
  },
  {
   "cell_type": "code",
   "execution_count": null,
   "metadata": {},
   "outputs": [],
   "source": []
  },
  {
   "cell_type": "code",
   "execution_count": null,
   "metadata": {},
   "outputs": [],
   "source": []
  },
  {
   "cell_type": "code",
   "execution_count": null,
   "metadata": {},
   "outputs": [],
   "source": []
  },
  {
   "cell_type": "code",
   "execution_count": null,
   "metadata": {},
   "outputs": [],
   "source": []
  },
  {
   "cell_type": "code",
   "execution_count": null,
   "metadata": {},
   "outputs": [],
   "source": []
  },
  {
   "cell_type": "code",
   "execution_count": null,
   "metadata": {},
   "outputs": [],
   "source": []
  },
  {
   "cell_type": "code",
   "execution_count": null,
   "metadata": {},
   "outputs": [],
   "source": []
  },
  {
   "cell_type": "code",
   "execution_count": null,
   "metadata": {},
   "outputs": [],
   "source": []
  },
  {
   "cell_type": "code",
   "execution_count": null,
   "metadata": {},
   "outputs": [],
   "source": []
  },
  {
   "cell_type": "code",
   "execution_count": null,
   "metadata": {},
   "outputs": [],
   "source": []
  },
  {
   "cell_type": "code",
   "execution_count": null,
   "metadata": {},
   "outputs": [],
   "source": []
  },
  {
   "cell_type": "code",
   "execution_count": null,
   "metadata": {},
   "outputs": [],
   "source": []
  },
  {
   "cell_type": "code",
   "execution_count": null,
   "metadata": {},
   "outputs": [],
   "source": []
  },
  {
   "cell_type": "code",
   "execution_count": null,
   "metadata": {},
   "outputs": [],
   "source": []
  },
  {
   "cell_type": "code",
   "execution_count": null,
   "metadata": {},
   "outputs": [],
   "source": []
  },
  {
   "cell_type": "code",
   "execution_count": null,
   "metadata": {},
   "outputs": [],
   "source": []
  },
  {
   "cell_type": "code",
   "execution_count": null,
   "metadata": {},
   "outputs": [],
   "source": []
  }
 ],
 "metadata": {
  "kernelspec": {
   "display_name": "Python 3",
   "language": "python",
   "name": "python3"
  },
  "language_info": {
   "codemirror_mode": {
    "name": "ipython",
    "version": 3
   },
   "file_extension": ".py",
   "mimetype": "text/x-python",
   "name": "python",
   "nbconvert_exporter": "python",
   "pygments_lexer": "ipython3",
   "version": "3.7.6"
  }
 },
 "nbformat": 4,
 "nbformat_minor": 4
}
