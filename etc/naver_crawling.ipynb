{
 "cells": [
  {
   "cell_type": "code",
   "execution_count": 19,
   "metadata": {},
   "outputs": [],
   "source": [
    "from bs4 import BeautifulSoup\n",
    "import requests"
   ]
  },
  {
   "cell_type": "code",
   "execution_count": 29,
   "metadata": {},
   "outputs": [],
   "source": [
    "maximum = 0\n",
    "page = 1\n",
    "\n",
    "#URL = 'http://land.naver.com/news/field.nhn?page=3'\n",
    "URL = 'https://land.naver.com/news/field.nhn?news_type_cd=20'\n",
    "\n",
    "response = requests.get(URL)\n",
    "source = response.text\n",
    "soup = BeautifulSoup(source, 'html.parser')"
   ]
  },
  {
   "cell_type": "code",
   "execution_count": 30,
   "metadata": {},
   "outputs": [
    {
     "name": "stdout",
     "output_type": "stream",
     "text": [
      "총 2 개의 페이지가 확인 됬습니다.\n"
     ]
    }
   ],
   "source": [
    "while 1:\n",
    "\tpage_list = soup.findAll(\"a\", {\"class\": \"NP=r:\" + str(page)})\n",
    "\tif not page_list:\n",
    "\t\tmaximum = page - 1\n",
    "\t\tbreak\n",
    "\tpage = page + 1\n",
    "print(\"총 \" + str(maximum) + \" 개의 페이지가 확인 됬습니다.\")"
   ]
  },
  {
   "cell_type": "code",
   "execution_count": 33,
   "metadata": {},
   "outputs": [
    {
     "name": "stdout",
     "output_type": "stream",
     "text": [
      "\n",
      "성동구 '알짜 땅' 금호21구역 지분쪼개기 막힌다\n",
      "\n",
      "용산구, 저소득층 대상 무료 공인중개서비스\n",
      "\n",
      "[동네방네]종로구 ‘착한 임대료’ 운동…관내 5000개 점포 동참\n",
      "\n",
      "마포구, 중소기업·소상공인 융자 지원 및 임대료 인하\n",
      "국토부-모빌리티 업계, 간담회 개최…“상생‧혁신 가속화”\n",
      "\n",
      "분양가 상한제 유예기간 연장된다...7월까지 유예 유력\n",
      "\n",
      "국토부, 민간택지 분양가상한제 3개월 연기한다\n",
      "\n",
      "‘광역교통2030’ 본격 추진…예산 전년比 47%↑\n",
      "\n",
      "국토부 “필로티 주차장 설치시 주택 층수에서 제외 …규제해소”\n",
      "3기 신도시 광역교통대책 연내 확정\n",
      "\n",
      "'하이패스의  진화' 다차로 하이패스, 내년까지 60개소 설치\n",
      "\n",
      "공공지원 민간임대에 고급 외제차 타는 `알부자` 못들어온다\n",
      "\n",
      "임대주택에 고가 수입차? 앞으론 보기 어려워진다\n",
      "\n",
      "코로나로 종부세 인상 일단 '스톱'… 총선이 분수령\n",
      "국토부, LH 영구임대주택 임대료 6개월간 납부 유예키로\n",
      "\n",
      "전세금 반환보증료, 가입기간 상관없이 같아진다\n",
      "\n",
      "막판까지 국회서 낮잠…‘부동산 규제책’ 자동폐기 되나\n",
      "\n",
      "분양가상한제 민원 빗발… “고수냐 연기냐” 머리 싸맨 정부\n",
      "\n",
      "[코로나19] 전례 없는 대책, 부동산은?…상한제 연기·특례보증료 내심 기대\n",
      "\n",
      "'안전한 도로, 직접 설계해봐요'…국토부, 18일부터 안심도로 공모전\n",
      "\n",
      "국토부, 1억원 지원해 스마트시티 창업가 찾는다\n"
     ]
    }
   ],
   "source": [
    "whole_source = \"\"\n",
    "for page_number in range(1, maximum+1):\n",
    "\tURL = 'https://land.naver.com/news/field.nhn?news_type_cd=20&page=' + str(page_number)\n",
    "\tresponse = requests.get(URL)\n",
    "\twhole_source = whole_source + response.text\n",
    "soup = BeautifulSoup(whole_source, 'html.parser')\n",
    "find_title = soup.select(\"#content > div.section_headline > ul > li > dl > dt > a\")\n",
    "\n",
    "for title in find_title:\n",
    "\tprint(title.text)"
   ]
  },
  {
   "cell_type": "code",
   "execution_count": null,
   "metadata": {},
   "outputs": [],
   "source": []
  },
  {
   "cell_type": "code",
   "execution_count": null,
   "metadata": {},
   "outputs": [],
   "source": []
  },
  {
   "cell_type": "code",
   "execution_count": null,
   "metadata": {},
   "outputs": [],
   "source": []
  },
  {
   "cell_type": "code",
   "execution_count": null,
   "metadata": {},
   "outputs": [],
   "source": []
  },
  {
   "cell_type": "code",
   "execution_count": null,
   "metadata": {},
   "outputs": [],
   "source": []
  }
 ],
 "metadata": {
  "kernelspec": {
   "display_name": "Python 3",
   "language": "python",
   "name": "python3"
  },
  "language_info": {
   "codemirror_mode": {
    "name": "ipython",
    "version": 3
   },
   "file_extension": ".py",
   "mimetype": "text/x-python",
   "name": "python",
   "nbconvert_exporter": "python",
   "pygments_lexer": "ipython3",
   "version": "3.7.6"
  }
 },
 "nbformat": 4,
 "nbformat_minor": 4
}
