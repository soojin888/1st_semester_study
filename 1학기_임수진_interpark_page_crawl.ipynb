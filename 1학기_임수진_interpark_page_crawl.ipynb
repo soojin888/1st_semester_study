{
 "cells": [
  {
   "cell_type": "code",
   "execution_count": 93,
   "metadata": {},
   "outputs": [],
   "source": [
    "import requests\n",
    "from bs4 import BeautifulSoup\n",
    "import re\n",
    "\n",
    "# 크롤링할 사이트 주소를 정의합니다.\n",
    "source_url = \"http://ticket.interpark.com/DramaIndex.asp\"\n",
    "\n",
    "# 사이트의 html 구조에 기반하여 크롤링을 수행합니다.\n",
    "req = requests.get(source_url)\n",
    "html = req.content\n",
    "soup = BeautifulSoup(html, 'lxml')\n",
    "posters_list = soup.find_all(name=\"dt\", attrs={\"class\":\"issue_obj\"})\n",
    "\n",
    "page_urls = []\n",
    "for index in range(0, len(posters_list)):\n",
    "    a_url = posters_list[index].find_all('a')\n",
    "    href_url = a_url[0].get('href')\n",
    "    page_urls.append(href_url)"
   ]
  },
  {
   "cell_type": "code",
   "execution_count": 201,
   "metadata": {},
   "outputs": [
    {
     "data": {
      "text/plain": [
       "['http://ticket.interpark.com/Ticket/Goods/TPBridge.asp?GoodsCode=17009347',\n",
       " 'http://ticket.interpark.com/Ticket/Goods/TPBridge.asp?GoodsCode=20002958',\n",
       " 'http://ticket.interpark.com/Ticket/Goods/TPBridge.asp?GoodsCode=20000479',\n",
       " 'http://ticket.interpark.com/Ticket/Goods/TPBridge.asp?GoodsCode=20001188',\n",
       " 'http://ticket.interpark.com/Ticket/Goods/TPBridge.asp?GoodsCode=20002964',\n",
       " 'http://ticket.interpark.com/Ticket/Goods/TPBridge.asp?GoodsCode=20000535',\n",
       " 'http://ticket.interpark.com/Ticket/Goods/TPBridge.asp?GoodsCode=18007314',\n",
       " 'http://ticket.interpark.com/Ticket/Goods/TPBridge.asp?GoodsCode=17003410',\n",
       " 'http://ticket.interpark.com/Ticket/Goods/TPBridge.asp?GoodsCode=19012460',\n",
       " 'http://ticket.interpark.com/Ticket/Goods/TPBridge.asp?GoodsCode=19017832',\n",
       " 'http://ticket.interpark.com/Ticket/Goods/TPBridge.asp?GoodsCode=20001009',\n",
       " 'http://ticket.interpark.com/search/ticket.asp?search=2020%20%uADF9%uC7A5%uC804',\n",
       " 'http://ticket.interpark.com/Ticket/Goods/TPBridge.asp?GoodsCode=19008901',\n",
       " 'http://ticket.interpark.com/Ticket/Goods/TPBridge.asp?GoodsCode=20000474',\n",
       " 'http://ticket.interpark.com/Ticket/Goods/TPBridge.asp?GoodsCode=20003164',\n",
       " 'http://ticket.interpark.com/Ticket/Goods/TPBridge.asp?GoodsCode=19011113',\n",
       " 'http://ticket.interpark.com/Ticket/Goods/TPBridge.asp?GoodsCode=19013555',\n",
       " 'http://ticket.interpark.com/Ticket/Goods/TPBridge.asp?GoodsCode=18010195',\n",
       " 'http://ticket.interpark.com/Ticket/Goods/TPBridge.asp?GoodsCode=20002950',\n",
       " 'http://ticket.interpark.com/Ticket/Goods/TPBridge.asp?GoodsCode=20002592',\n",
       " 'http://ticket.interpark.com/Ticket/Goods/TPBridge.asp?GoodsCode=18002363',\n",
       " 'http://ticket.interpark.com/Ticket/Goods/TPBridge.asp?GoodsCode=19001639',\n",
       " 'http://ticket.interpark.com/search/ticket.asp?search=%uC548%uB098%uB77C%uC218%uB9C8%uB098%uB77C',\n",
       " 'http://ticket.interpark.com/Ticket/Goods/TPBridge.asp?GoodsCode=20002967',\n",
       " 'http://ticket.interpark.com/Ticket/Goods/TPBridge.asp?GoodsCode=19015048',\n",
       " 'http://ticket.interpark.com/Ticket/Goods/TPBridge.asp?GoodsCode=17009753',\n",
       " 'http://ticket.interpark.com/Ticket/Goods/TPBridge.asp?GoodsCode=20003049',\n",
       " 'http://ticket.interpark.com/Ticket/Goods/TPBridge.asp?GoodsCode=18015523',\n",
       " 'http://ticket.interpark.com/Ticket/Goods/TPBridge.asp?GoodsCode=18002092',\n",
       " 'http://ticket.interpark.com/Ticket/Goods/TPBridge.asp?GoodsCode=18013732',\n",
       " 'http://ticket.interpark.com/Ticket/Goods/TPBridge.asp?GoodsCode=18006602',\n",
       " 'http://ticket.interpark.com/Ticket/Goods/TPBridge.asp?GoodsCode=19001142',\n",
       " 'http://ticket.interpark.com/Ticket/Goods/TPBridge.asp?GoodsCode=18009773',\n",
       " 'http://ticket.interpark.com/Ticket/Goods/TPBridge.asp?GoodsCode=17018375',\n",
       " 'http://ticket.interpark.com/Ticket/Goods/TPBridge.asp?GoodsCode=17000544',\n",
       " 'http://ticket.interpark.com/search/ticket.asp?search=29%uD68C%20%uC2E0%uCD98%uBB38%uC608%20%uB2E8%uB9C9%uADF9%uC804%20',\n",
       " 'http://ticket.interpark.com/Ticket/Goods/TPBridge.asp?GoodsCode=20002781',\n",
       " 'http://ticket.interpark.com/Ticket/Goods/TPBridge.asp?GoodsCode=20002782',\n",
       " 'http://ticket.interpark.com/Ticket/Goods/TPBridge.asp?GoodsCode=20003067',\n",
       " 'http://ticket.interpark.com/Ticket/Goods/TPBridge.asp?GoodsCode=20002976']"
      ]
     },
     "execution_count": 201,
     "metadata": {},
     "output_type": "execute_result"
    }
   ],
   "source": [
    "page_urls"
   ]
  },
  {
   "cell_type": "code",
   "execution_count": 202,
   "metadata": {},
   "outputs": [],
   "source": [
    "req = requests.get(page_urls[3])\n",
    "html = req.content\n",
    "soup = BeautifulSoup(html, 'lxml')"
   ]
  },
  {
   "cell_type": "code",
   "execution_count": 203,
   "metadata": {},
   "outputs": [
    {
     "name": "stdout",
     "output_type": "stream",
     "text": [
      "버스크 음악극 〈432Hz〉\n",
      "연극 |  100분  |  14세 이상 관람가\n"
     ]
    }
   ],
   "source": [
    "title_category = soup.find(name=\"div\", attrs={\"class\":\"dt_Name\"})\n",
    "title = title_category.find(name=\"span\")\n",
    "category = title_category.find(name=\"dd\")\n",
    "\n",
    "if title is not None:\n",
    "    row_title = title.text.replace(\"\\n\", \" \")\n",
    "else:\n",
    "    row_title = \"\"\n",
    "\n",
    "if category is not None:\n",
    "    row_category = category.text.replace(\"\\n\", \" \")\n",
    "else:\n",
    "    row_category = \"\"\n",
    "\n",
    "print(title.text)\n",
    "print(category.text)"
   ]
  },
  {
   "cell_type": "code",
   "execution_count": 204,
   "metadata": {},
   "outputs": [
    {
     "data": {
      "text/plain": [
       "'장소대학로 TOM(티오엠) 2관\\n기간2020.02.21 ~ 2020.05.31\\n관람시간 보기\\n\\n\\n출연\\n박웅,강찬,용석,김찬종,조현우,문경초,한선천,이동수,은가은,윤진솔,허윤혜,금조,최유찬,최호승,정인지,조원석..\\n더보기'"
      ]
     },
     "execution_count": 204,
     "metadata": {},
     "output_type": "execute_result"
    }
   ],
   "source": [
    "basic_info = soup.find(name=\"ul\", attrs={\"class\":\"info_Lst\"})\n",
    "str_basic_info = basic_info.text.strip()\n",
    "str_basic_info"
   ]
  },
  {
   "cell_type": "code",
   "execution_count": 205,
   "metadata": {},
   "outputs": [
    {
     "name": "stdout",
     "output_type": "stream",
     "text": [
      "['장소대학로 TOM(티오엠) 2관', '기간2020.02.21 ~ 2020.05.31', '관람시간 보기', '', '', '출연', '박웅,강찬,용석,김찬종,조현우,문경초,한선천,이동수,은가은,윤진솔,허윤혜,금조,최유찬,최호승,정인지,조원석..', '더보기']\n"
     ]
    }
   ],
   "source": [
    "print(list(str_basic_info.split('\\n')))"
   ]
  },
  {
   "cell_type": "code",
   "execution_count": null,
   "metadata": {},
   "outputs": [],
   "source": []
  },
  {
   "cell_type": "code",
   "execution_count": null,
   "metadata": {},
   "outputs": [],
   "source": []
  },
  {
   "cell_type": "code",
   "execution_count": 207,
   "metadata": {},
   "outputs": [
    {
     "data": {
      "text/plain": [
       "[<span>New</span>,\n",
       " <span id=\"spReviewCnt\"></span>,\n",
       " <span id=\"spExpertCnt\"></span>,\n",
       " <span id=\"spQnACnt\"></span>]"
      ]
     },
     "execution_count": 207,
     "metadata": {},
     "output_type": "execute_result"
    }
   ],
   "source": [
    "result = soup.find('div', {'class':'Mid_Tab'}).findChildren('span')\n",
    "result"
   ]
  },
  {
   "cell_type": "code",
   "execution_count": null,
   "metadata": {},
   "outputs": [],
   "source": [
    "result = html.find('div', {'class':'score_total'}).find('strong').findChildren('em')[1].getText()\n",
    "int(result.replace(',', ''))"
   ]
  },
  {
   "cell_type": "code",
   "execution_count": null,
   "metadata": {},
   "outputs": [],
   "source": []
  },
  {
   "cell_type": "code",
   "execution_count": null,
   "metadata": {},
   "outputs": [],
   "source": []
  },
  {
   "cell_type": "code",
   "execution_count": null,
   "metadata": {},
   "outputs": [],
   "source": []
  },
  {
   "cell_type": "code",
   "execution_count": null,
   "metadata": {},
   "outputs": [],
   "source": []
  },
  {
   "cell_type": "code",
   "execution_count": null,
   "metadata": {},
   "outputs": [],
   "source": []
  },
  {
   "cell_type": "code",
   "execution_count": null,
   "metadata": {},
   "outputs": [],
   "source": []
  },
  {
   "cell_type": "code",
   "execution_count": null,
   "metadata": {},
   "outputs": [],
   "source": []
  },
  {
   "cell_type": "code",
   "execution_count": null,
   "metadata": {},
   "outputs": [],
   "source": []
  },
  {
   "cell_type": "code",
   "execution_count": null,
   "metadata": {},
   "outputs": [],
   "source": []
  },
  {
   "cell_type": "code",
   "execution_count": null,
   "metadata": {},
   "outputs": [],
   "source": []
  },
  {
   "cell_type": "code",
   "execution_count": null,
   "metadata": {},
   "outputs": [],
   "source": []
  },
  {
   "cell_type": "code",
   "execution_count": null,
   "metadata": {},
   "outputs": [],
   "source": []
  },
  {
   "cell_type": "code",
   "execution_count": null,
   "metadata": {},
   "outputs": [],
   "source": []
  },
  {
   "cell_type": "code",
   "execution_count": null,
   "metadata": {},
   "outputs": [],
   "source": []
  },
  {
   "cell_type": "code",
   "execution_count": null,
   "metadata": {},
   "outputs": [],
   "source": []
  },
  {
   "cell_type": "code",
   "execution_count": null,
   "metadata": {},
   "outputs": [],
   "source": []
  },
  {
   "cell_type": "code",
   "execution_count": null,
   "metadata": {},
   "outputs": [],
   "source": []
  }
 ],
 "metadata": {
  "kernelspec": {
   "display_name": "Python 3",
   "language": "python",
   "name": "python3"
  },
  "language_info": {
   "codemirror_mode": {
    "name": "ipython",
    "version": 3
   },
   "file_extension": ".py",
   "mimetype": "text/x-python",
   "name": "python",
   "nbconvert_exporter": "python",
   "pygments_lexer": "ipython3",
   "version": "3.7.6"
  }
 },
 "nbformat": 4,
 "nbformat_minor": 4
}
